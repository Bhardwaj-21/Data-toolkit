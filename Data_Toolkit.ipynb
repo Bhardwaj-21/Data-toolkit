{
  "nbformat": 4,
  "nbformat_minor": 0,
  "metadata": {
    "colab": {
      "provenance": []
    },
    "kernelspec": {
      "name": "python3",
      "display_name": "Python 3"
    },
    "language_info": {
      "name": "python"
    }
  },
  "cells": [
    {
      "cell_type": "markdown",
      "source": [
        "1. What is NumPy, and why is it widely used in Python?\n",
        "-> NumPy is a Python library used for numerical computing. It provides support for multi-dimensional arrays and matrices, along with mathematical functions to operate on them. It's widely used because:\n",
        "\n",
        "1. Efficient Arrays**: Provides fast, flexible arrays (`ndarray`) for numerical data.\n",
        "2. **Performance**: Operations are faster than regular Python lists due to C-based implementation.\n",
        "3. Mathematical Functions**: Offers functions for linear algebra, statistics, and more.\n",
        "4. Integration**: Works well with other libraries like Pandas, SciPy, and Matplotlib.\n",
        "5. Memory Efficiency**: More memory-efficient than Python lists.\n",
        "6. **Multidimensional Arrays**: Handles multi-dimensional arrays for complex data.\n",
        "7. Data Science**: Essential for data science, machine learning, and scientific computing.\n",
        "\n",
        "2. How does broadcasting work in NumPy?\n",
        "-> Broadcasting in NumPy is a feature that allows arrays of different shapes to be used in arithmetic operations. It automatically expands smaller arrays to match the shape of larger arrays without the need for explicit replication of data. This makes operations more memory-efficient and faster.\n",
        "\n",
        "- Key Concepts of Broadcasting:\n",
        "\n",
        "- Shape Compatibility: For broadcasting to occur, the dimensions of the arrays must be compatible. This means:\n",
        "\n",
        "- If the arrays have different dimensions, NumPy will pad the smaller array's shape with 1s on the left.\n",
        "\n",
        "- The size of each dimension should either be the same or one of the arrays should have a size of 1 in that dimension.\n",
        "\n",
        "- Rules of Broadcasting:\n",
        "\n",
        "- Align dimensions: NumPy aligns the dimensions of both arrays from the right.\n",
        "\n",
        "- Size compatibility: If the sizes of the dimensions do not match, one of the arrays must have a size of 1 in that dimension to allow broadcasting.\n",
        "\n",
        "3. What is a Pandas DataFrame?\n",
        "-> A Pandas DataFrame is a two-dimensional, labeled data structure in Python. It stores data in rows and columns, similar to a table.\n",
        "\n",
        "- Key Features:\n",
        "\n",
        " - Tabular structure: Rows and columns with labels.\n",
        "\n",
        " - Heterogeneous: Can contain different data types in different columns.\n",
        "\n",
        " - Indexing: Both rows and columns are indexed.\n",
        "\n",
        " - Mutable: You can add or remove rows/columns.\n",
        "\n",
        "4. Explain the use of the groupby() method in Pandas?\n",
        "\n",
        "-> The groupby() method in Pandas is used to:\n",
        "\n",
        "- Split data into groups based on values in one or more columns.\n",
        "\n",
        "- Apply a function (like sum(), mean(), etc.) to each group.\n",
        "\n",
        "- Combine the results into a new DataFrame.\n",
        "\n",
        "5. Why is Seaborn preferred for statistical visualizations?\n",
        "\n",
        "-> Seaborn is preferred for statistical visualizations because:\n",
        "\n",
        "- It has built-in support for complex plots (e.g., boxplots, violin plots, pair plots).\n",
        "\n",
        "- It automatically handles statistical aggregation and visual themes.\n",
        "\n",
        "- It integrates well with Pandas DataFrames.\n",
        "\n",
        "- It makes beautiful, informative charts with minimal code.\n",
        "\n",
        "6. What are the differences between NumPy arrays and Python lists\n",
        "\n",
        "-> Data Type:\n",
        " - NumPy arrays: Only one data type (homogeneous).\n",
        " - Python lists: Can contain different data types (heterogeneous).\n",
        "\n",
        "-> Speed:\n",
        " - NumPy arrays: Faster for numerical operations.\n",
        " - Python lists: Slower in comparison.\n",
        "\n",
        "-> Memory Efficiency:\n",
        " - NumPy arrays: Use less memory.\n",
        " - Python lists: Use more memory.\n",
        "\n",
        "-> Functionality:\n",
        " - NumPy arrays: Support vectorized operations (e.g., array * 2).\n",
        " - Python lists: Need loops for such operations.\n",
        "\n",
        "-> Multidimensional Support:\n",
        " - NumPy arrays: Support multi-dimensional arrays easily.\n",
        " - Python lists: Require nested lists, which are harder to manage.\n",
        "\n",
        "-> Built-in Functions:\n",
        " - NumPy arrays: Have many built-in functions for stats, algebra, etc.\n",
        " - Python lists: Limited built-in functionality.\n",
        "\n",
        "7. What is a heatmap, and when should it be used?\n",
        "\n",
        "-> A heatmap is a data visualization that uses color to show the magnitude of values in a matrix.\n",
        "\n",
        "-> When to use:\n",
        "\n",
        " - To visualize correlations between variables.\n",
        " - To spot patterns, trends, or outliers in a dataset.\n",
        " - To display confusion matrices or pivot tables clearly.\n",
        "\n",
        " 8. What does the term “vectorized operation” mean in NumPy?\n",
        "\n",
        " -> A vectorized operation in NumPy means performing operations on entire arrays without using loops.\n",
        "\n",
        " 9. How does Matplotlib differ from Plotly?\n",
        "\n",
        " -> Interactivity:\n",
        " - Matplotlib: Static plots (basic interactivity with add-ons).\n",
        " - Plotly: Highly interactive plots (zoom, hover, tooltips).\n",
        "\n",
        "-> Ease of Use:\n",
        " - Matplotlib: More code-heavy; flexible but manual.\n",
        " - Plotly: Easier for interactive and polished visuals.\n",
        "\n",
        "-> Output Format:\n",
        " - Matplotlib: Best for static images (PNG, PDF).\n",
        " - Plotly: Best for web-based, interactive HTML plots.\n",
        "\n",
        "-> Customization:\n",
        " - Matplotlib: Highly customizable with more control.\n",
        " - Plotly: Limited low-level control but great visuals.\n",
        "\n",
        "-> Use Case:\n",
        " - Matplotlib: Good for academic/static reports.\n",
        " - Plotly: Great for dashboards and web apps.\n",
        "\n",
        "10. What is the significance of hierarchical indexing in Pandas?\n",
        "\n",
        "-> Hierarchical indexing (or MultiIndex) in Pandas allows you to have multiple levels of index on rows or columns.\n",
        "\n",
        "-> Significance:\n",
        "\n",
        " - Organizes data in a nested structure.\n",
        "\n",
        " - Makes it easier to analyze multi-dimensional data.\n",
        "\n",
        " - Enables complex grouping and slicing operations.\n",
        "\n",
        " - Helps in reshaping data (e.g., with stack() and unstack()).\n",
        "\n",
        "11. What is the role of Seaborn’s pairplot() function?\n",
        "\n",
        "-> Seaborn’s pairplot() function is used to:\n",
        "\n",
        " - Visualize relationships between all pairs of features in a dataset.\n",
        "\n",
        " - Show scatter plots, histograms, and KDEs for numerical variables.\n",
        "\n",
        " - Help detect patterns, correlations, or outliers.\n",
        "\n",
        "12. What is the purpose of the describe() function in Pandas?\n",
        "\n",
        "->The describe() function in Pandas is used to:\n",
        "\n",
        " - Generate summary statistics for numerical columns.\n",
        "\n",
        " - Show metrics like count, mean, std, min, max, and quartiles.\n",
        "\n",
        "13. Why is handling missing data important in Pandas?\n",
        "\n",
        "-> Handling missing data in Pandas is important because:\n",
        "\n",
        " - Accuracy: Prevents biased or incorrect analysis.\n",
        "\n",
        " - Model Requirements: Many algorithms need complete data.\n",
        "\n",
        " - Error Prevention: Avoids calculation errors.\n",
        "\n",
        " - Efficiency: Ensures faster, more reliable processing.\n",
        "\n",
        " - Consistency: Ensures reproducibility of results.\n",
        "\n",
        "14. What are the benefits of using Plotly for data visualization?\n",
        "\n",
        "-> The benefits of using Plotly for data visualization include:\n",
        "\n",
        " - Interactive Plots: Allows zooming, panning, and hover functionality.\n",
        "\n",
        " - Beautiful Visuals: High-quality, visually appealing charts.\n",
        "\n",
        " - Wide Range of Plots: Supports a variety of chart types (e.g., 3D, maps, heatmaps).\n",
        "\n",
        " - Integration: Easily integrates with tools like Jupyter Notebooks and Dash.\n",
        "\n",
        " - Customization: Highly customizable for personalized styling and layout.\n",
        "\n",
        " - Web-Based: Interactive plots can be shared online or embedded in websites.\n",
        "\n",
        "15.  How does NumPy handle multidimensional arrays?\n",
        "\n",
        "-> NumPy handles multidimensional arrays through its ndarray object, which can represent arrays of any number of dimensions. Key features include:\n",
        "\n",
        "-> Shape: The shape of an array is a tuple that defines the size of the array along each dimension.\n",
        "\n",
        "-> Indexing: You can index and slice arrays in multiple dimensions using commas (e.g., array[i, j] for 2D arrays).\n",
        "\n",
        "-> Broadcasting: NumPy automatically handles operations between arrays of different shapes by \"broadcasting\" smaller arrays across larger ones.\n",
        "\n",
        "-> Efficient Storage: Multidimensional arrays are stored as contiguous blocks of memory, optimizing speed and memory usage.\n",
        "\n",
        "-> Vectorized Operations: Allows fast element-wise operations across entire arrays without explicit loops.\n",
        "\n",
        "16. What is the role of Bokeh in data visualization?\n",
        "\n",
        "-> Bokeh is used in data visualization for:\n",
        "\n",
        "-> Interactive Visuals: It allows the creation of highly interactive, web-based visualizations (e.g., zooming, panning, and hover tools).\n",
        "\n",
        "-> Web Integration: Bokeh visualizations can be easily embedded in web applications, Jupyter notebooks, or dashboards.\n",
        "\n",
        "-> Customizability: Offers extensive customization options for charts, layouts, and tools.\n",
        "\n",
        "-> Real-Time Data: Supports streaming and updating data in real-time.\n",
        "\n",
        "-> Wide Range of Plots: Includes line, bar, scatter, heatmaps, and more advanced charts (e.g., geographic maps, network graphs).\n",
        "\n",
        "17. Explain the difference between apply() and map() in Pandas\n",
        "\n",
        "-> In Pandas, both apply() and map() are used for applying functions to data, but they differ in their usage and functionality:\n",
        "\n",
        " - apply():\n",
        "\n",
        " -> Works on both Series and DataFrame objects.\n",
        " -> Can apply a function along an axis (rows or columns) in a DataFrame.\n",
        " -> Allows more complex operations, such as applying a function to multiple columns at once.\n",
        "\n",
        " -> Syntax: df.apply(func, axis=0) for DataFrames (axis=0 for columns, axis=1 for rows).\n",
        "\n",
        " - map():\n",
        "\n",
        " -> Works only on Series.\n",
        "\n",
        " -> Primarily used to map or transform values in a Series, often with a dictionary, a function, or a list.\n",
        "\n",
        " -> More limited in functionality compared to apply() (usually for element-wise operations).\n",
        " -> Syntax: series.map(func).\n",
        "\n",
        "18. What are some advanced features of NumPy?\n",
        "\n",
        "-> Some advanced features of NumPy include:\n",
        "\n",
        " - Broadcasting: Enables operations on arrays of different shapes by automatically adjusting dimensions to make them compatible for element-wise operations.\n",
        "\n",
        " - Vectorization: Allows for the efficient application of operations across entire arrays without the need for explicit loops, leading to faster execution.\n",
        "\n",
        " - Advanced Indexing:\n",
        "Supports fancy indexing, where you can index with arrays or lists, not just single integers.\n",
        "- Provides boolean indexing to filter data based on conditions.\n",
        "\n",
        " - Linear Algebra: NumPy has a suite of functions for linear algebra operations like matrix multiplication (dot), eigenvalues, determinants, and singular value decomposition (SVD).\n",
        "\n",
        " - Random Module: Provides tools for generating random numbers and sampling from various probability distributions.\n",
        "\n",
        " - Memory Layout Control: Offers fine-grained control over memory (e.g., using C vs. Fortran-order arrays).\n",
        "\n",
        " - Strides: Allows for advanced manipulation of array memory and control over how data is accessed in memory.\n",
        "\n",
        " - Masked Arrays: Supports arrays where some elements are masked (ignored), allowing for handling missing or invalid data efficiently.\n",
        "\n",
        "19. How does Pandas simplify time series analysis?\n",
        "\n",
        "-> Pandas simplifies time series analysis with features like:\n",
        "\n",
        " - Datetime Indexing: You can easily convert date strings into DatetimeIndex, enabling time-based indexing and easy access to data based on dates.\n",
        "\n",
        " - Resampling: Pandas allows you to resample data at different frequencies (e.g., daily, monthly, yearly) using .resample(), which is useful for aggregating or downsampling time series.\n",
        "\n",
        " - Shifting and Lagging: With .shift(), you can easily create lagged variables or calculate changes over time (e.g., differences between current and previous time periods).\n",
        "\n",
        " - Rolling Windows: Provides methods like .rolling() to calculate moving averages, sums, and other statistics over a rolling window.\n",
        "\n",
        " - Time Zone Handling: Pandas supports time zone conversion and localization, making it easier to work with data from different time zones.\n",
        "\n",
        " - Date Range Generation: The pd.date_range() function allows you to generate sequences of dates, making it easy to create time series data for modeling.\n",
        "\n",
        " - Easy Plotting: Pandas integrates with libraries like Matplotlib, allowing you to quickly plot time series data for visual analysis.\n",
        "\n",
        "20.  What is the role of a pivot table in Pandas?\n",
        "\n",
        "-> In Pandas, a pivot table is used to summarize, aggregate, and reshape data. It helps in:\n",
        "\n",
        " - Aggregating Data: Pivot tables allow you to group and aggregate data based on certain categorical variables (e.g., sum, mean, count).\n",
        "\n",
        " - Reshaping Data: You can transform long-format data into a more readable wide-format, where rows become columns, making it easier to compare values.\n",
        "\n",
        " - Multi-dimensional Analysis: By using multiple columns as indices and aggregating over others, pivot tables allow for multi-dimensional analysis of data.\n",
        "\n",
        " - Data Summarization: It helps to condense large datasets into smaller, more manageable summaries, often with statistics like averages, sums, or counts.\n",
        "\n",
        "21. Why is NumPy’s array slicing faster than Python’s list slicing?\n",
        "\n",
        "-> NumPy's array slicing is faster than Python's list slicing because:\n",
        "\n",
        " - Contiguous Memory: NumPy arrays are stored in a single block, making slicing faster.\n",
        "\n",
        " - No Copying: Slicing creates a view, not a copy, saving time and memory.\n",
        "\n",
        " - C Implementation: NumPy is optimized in C, while list slicing is slower in Python.\n",
        "\n",
        " - Vectorization: NumPy handles operations on slices more efficiently.\n",
        "\n",
        "22. What are some common use cases for Seaborn?\n",
        "\n",
        "-> Statistical Plots: Creating plots like bar charts, box plots, violin plots, and pair plots to visualize statistical relationships.\n",
        "\n",
        "-> Correlation Heatmaps: Displaying correlations between variables in a dataset with color-coded matrices.\n",
        "\n",
        "-> Categorical Data Visualization: Visualizing categorical data distributions with plots like count plots, bar plots, and strip plots.\n",
        "\n",
        "-> Regression Plots: Creating scatter plots with fitted regression lines using regplot() or lmplot().\n",
        "\n",
        "-> Distribution Plots: Visualizing the distribution of data with histograms, KDE plots, or ECDFs (empirical cumulative distribution functions).\n",
        "\n",
        "-> Faceted Grid: Creating grid layouts for plotting multiple subplots based on a categorical variable using FacetGrid.\n",
        "\n",
        "Practical\n",
        "\n",
        "1. How do you create a 2D NumPy array and calculate the sum of each row?"
      ],
      "metadata": {
        "id": "ooQJqbigxw7y"
      }
    },
    {
      "cell_type": "code",
      "source": [
        "import numpy as np\n",
        "\n",
        "# Create a 2D NumPy array\n",
        "arr = np.array([[1, 2, 3], [4, 5, 6], [7, 8, 9]])\n",
        "\n",
        "# Calculate the sum of each row\n",
        "row_sums = arr.sum(axis=1)\n",
        "\n",
        "print(row_sums)"
      ],
      "metadata": {
        "id": "zaI-asqyx8qB"
      },
      "execution_count": null,
      "outputs": []
    },
    {
      "cell_type": "markdown",
      "source": [
        "2. Write a Pandas script to find the mean of a specific column in a DataFrame"
      ],
      "metadata": {
        "id": "oUi2Q5WA4nkE"
      }
    },
    {
      "cell_type": "code",
      "source": [
        "import pandas as pd\n",
        "\n",
        "# Sample DataFrame\n",
        "data = {'A': [1, 2, 3, 4, 5], 'B': [10, 20, 30, 40, 50]}\n",
        "df = pd.DataFrame(data)\n",
        "\n",
        "# Calculate the mean of column 'A'\n",
        "mean_value = df['A'].mean()\n",
        "\n",
        "print(f\"The mean of column 'A' is: {mean_value}\")"
      ],
      "metadata": {
        "id": "ZXynG9mi4rZ4"
      },
      "execution_count": null,
      "outputs": []
    },
    {
      "cell_type": "markdown",
      "source": [
        "3. Create a scatter plot using Matplotlib"
      ],
      "metadata": {
        "id": "RlO-s90J4tn0"
      }
    },
    {
      "cell_type": "code",
      "source": [
        "import matplotlib.pyplot as plt\n",
        "\n",
        "# Sample data\n",
        "x = [1, 2, 3, 4, 5]\n",
        "y = [2, 3, 5, 7, 11]\n",
        "\n",
        "# Create a scatter plot\n",
        "plt.scatter(x, y)\n",
        "\n",
        "# Adding labels and title\n",
        "plt.xlabel('X-axis')\n",
        "plt.ylabel('Y-axis')\n",
        "plt.title('Scatter Plot Example')\n",
        "\n",
        "# Show the plot\n",
        "plt.show()"
      ],
      "metadata": {
        "id": "zsNTjFTS4xQH"
      },
      "execution_count": null,
      "outputs": []
    },
    {
      "cell_type": "markdown",
      "source": [
        "4.  How do you calculate the correlation matrix using Seaborn and visualize it with a heatmap?"
      ],
      "metadata": {
        "id": "Jq20LYLs40Yp"
      }
    },
    {
      "cell_type": "code",
      "source": [
        "import seaborn as sns\n",
        "import matplotlib.pyplot as plt\n",
        "import pandas as pd\n",
        "\n",
        "# Sample DataFrame\n",
        "data = {'A': [1, 2, 3, 4, 5],\n",
        "        'B': [5, 4, 3, 2, 1],\n",
        "        'C': [2, 3, 4, 5, 6],\n",
        "        'D': [7, 8, 9, 10, 11]}\n",
        "\n",
        "df = pd.DataFrame(data)\n",
        "\n",
        "# Calculate the correlation matrix\n",
        "correlation_matrix = df.corr()\n",
        "\n",
        "# Create a heatmap to visualize the correlation matrix\n",
        "sns.heatmap(correlation_matrix, annot=True, cmap='coolwarm', fmt='.2f')\n",
        "\n",
        "# Show the plot\n",
        "plt.title('Correlation Matrix Heatmap')\n",
        "plt.show()"
      ],
      "metadata": {
        "id": "ZyALa5Zf43lU"
      },
      "execution_count": null,
      "outputs": []
    },
    {
      "cell_type": "markdown",
      "source": [
        "5. Generate a bar plot using Plotly"
      ],
      "metadata": {
        "id": "pN5Ry1fQ4-tE"
      }
    },
    {
      "cell_type": "code",
      "source": [
        "import plotly.graph_objects as go\n",
        "\n",
        "# Sample data\n",
        "categories = ['A', 'B', 'C', 'D', 'E']\n",
        "values = [10, 15, 7, 12, 9]\n",
        "\n",
        "# Create a bar plot\n",
        "fig = go.Figure(data=[go.Bar(x=categories, y=values)])\n",
        "\n",
        "# Add title and labels\n",
        "fig.update_layout(title='Bar Plot Example', xaxis_title='Category', yaxis_title='Value')\n",
        "\n",
        "# Show the plot\n",
        "fig.show()"
      ],
      "metadata": {
        "id": "skL5WHgo47uc"
      },
      "execution_count": null,
      "outputs": []
    },
    {
      "cell_type": "markdown",
      "source": [
        "6. Create a DataFrame and add a new column based on an existing column"
      ],
      "metadata": {
        "id": "IkfklhYH5KGQ"
      }
    },
    {
      "cell_type": "code",
      "source": [
        "import pandas as pd\n",
        "\n",
        "# Create a sample DataFrame\n",
        "data = {'A': [1, 2, 3, 4, 5]}\n",
        "df = pd.DataFrame(data)\n",
        "\n",
        "# Add a new column 'B' which is double the values of column 'A'\n",
        "df['B'] = df['A'] * 2\n",
        "\n",
        "# Display the updated DataFrame\n",
        "print(df)"
      ],
      "metadata": {
        "id": "9H6w6ski5Q5Y"
      },
      "execution_count": null,
      "outputs": []
    },
    {
      "cell_type": "markdown",
      "source": [
        "7. Write a program to perform element-wise multiplication of two NumPy arrays"
      ],
      "metadata": {
        "id": "tojy4DNM5Rox"
      }
    },
    {
      "cell_type": "code",
      "source": [
        "import numpy as np\n",
        "\n",
        "# Create two NumPy arrays\n",
        "array1 = np.array([1, 2, 3, 4])\n",
        "array2 = np.array([5, 6, 7, 8])\n",
        "\n",
        "# Perform element-wise multiplication\n",
        "result = array1 * array2\n",
        "\n",
        "# Display the result\n",
        "print(\"Result of element-wise multiplication:\", result)"
      ],
      "metadata": {
        "id": "IqkS0npW5VSY"
      },
      "execution_count": null,
      "outputs": []
    },
    {
      "cell_type": "markdown",
      "source": [
        "8.  Create a line plot with multiple lines using Matplotlib"
      ],
      "metadata": {
        "id": "Lxl_1J5k5YNl"
      }
    },
    {
      "cell_type": "code",
      "source": [
        "import matplotlib.pyplot as plt\n",
        "\n",
        "# Sample data\n",
        "x = [1, 2, 3, 4, 5]\n",
        "y1 = [1, 4, 9, 16, 25]  # Line 1\n",
        "y2 = [25, 20, 15, 10, 5]  # Line 2\n",
        "\n",
        "# Create a line plot with multiple lines\n",
        "plt.plot(x, y1, label='y = x^2', color='blue')  # Line 1\n",
        "plt.plot(x, y2, label='y = 30 - x', color='red')  # Line 2\n",
        "\n",
        "# Adding labels and title\n",
        "plt.xlabel('X-axis')\n",
        "plt.ylabel('Y-axis')\n",
        "plt.title('Multiple Lines Plot')\n",
        "\n",
        "# Show legend\n",
        "plt.legend()\n",
        "\n",
        "# Display the plot\n",
        "plt.show()"
      ],
      "metadata": {
        "id": "VG-K_a_c5b3x"
      },
      "execution_count": null,
      "outputs": []
    },
    {
      "cell_type": "markdown",
      "source": [
        "9. Generate a Pandas DataFrame and filter rows where a column value is greater than a threshold"
      ],
      "metadata": {
        "id": "lU7U3AhX5exQ"
      }
    },
    {
      "cell_type": "code",
      "source": [
        "import pandas as pd\n",
        "\n",
        "# Create a sample DataFrame\n",
        "data = {'A': [5, 12, 8, 20, 3],\n",
        "        'B': [15, 20, 25, 10, 30]}\n",
        "df = pd.DataFrame(data)\n",
        "\n",
        "# Define a threshold\n",
        "threshold = 10\n",
        "\n",
        "# Filter rows where values in column 'A' are greater than the threshold\n",
        "filtered_df = df[df['A'] > threshold]\n",
        "\n",
        "# Display the filtered DataFrame\n",
        "print(filtered_df)"
      ],
      "metadata": {
        "id": "Alv1H_uj5iQF"
      },
      "execution_count": null,
      "outputs": []
    },
    {
      "cell_type": "markdown",
      "source": [
        "10. Create a histogram using Seaborn to visualize a distribution"
      ],
      "metadata": {
        "id": "CAZCNVPK5keO"
      }
    },
    {
      "cell_type": "code",
      "source": [
        "import seaborn as sns\n",
        "import matplotlib.pyplot as plt\n",
        "\n",
        "# Sample data\n",
        "data = [1, 2, 2, 3, 3, 3, 4, 4, 4, 4, 5, 5, 5, 5, 5]\n",
        "\n",
        "# Create a histogram with Seaborn\n",
        "sns.histplot(data, kde=True, color='blue', bins=5)\n",
        "\n",
        "# Adding title and labels\n",
        "plt.title('Histogram with Seaborn')\n",
        "plt.xlabel('Value')\n",
        "plt.ylabel('Frequency')\n",
        "\n",
        "# Show the plot\n",
        "plt.show()"
      ],
      "metadata": {
        "id": "OcP2_-D55nuk"
      },
      "execution_count": null,
      "outputs": []
    },
    {
      "cell_type": "markdown",
      "source": [
        "11.  Perform matrix multiplication using NumPy"
      ],
      "metadata": {
        "id": "QVslfhyq5yIP"
      }
    },
    {
      "cell_type": "code",
      "source": [
        "import numpy as np\n",
        "\n",
        "# Define two matrices\n",
        "matrix1 = np.array([[1, 2], [3, 4]])\n",
        "matrix2 = np.array([[5, 6], [7, 8]])\n",
        "\n",
        "# Perform matrix multiplication\n",
        "result = np.dot(matrix1, matrix2)\n",
        "\n",
        "# Alternatively, you can use the @ operator\n",
        "# result = matrix1 @ matrix2\n",
        "\n",
        "# Display the result\n",
        "print(\"Matrix multiplication result:\")\n",
        "print(result)"
      ],
      "metadata": {
        "id": "LUq_L6nF6D5e"
      },
      "execution_count": null,
      "outputs": []
    },
    {
      "cell_type": "markdown",
      "source": [
        "12. Use Pandas to load a CSV file and display its first 5 rows"
      ],
      "metadata": {
        "id": "X-Xsl0xk6G3w"
      }
    },
    {
      "cell_type": "code",
      "source": [
        "import pandas as pd\n",
        "\n",
        "# Load the CSV file into a DataFrame (replace 'file.csv' with the actual file path)\n",
        "df = pd.read_csv('file.csv')\n",
        "\n",
        "# Display the first 5 rows of the DataFrame\n",
        "print(df.head())"
      ],
      "metadata": {
        "id": "BzCzznGj6K5n"
      },
      "execution_count": null,
      "outputs": []
    },
    {
      "cell_type": "markdown",
      "source": [
        "13.  Create a 3D scatter plot using Plotly."
      ],
      "metadata": {
        "id": "e-2wvhiu6MtA"
      }
    },
    {
      "cell_type": "code",
      "source": [
        "import plotly.express as px\n",
        "import pandas as pd\n",
        "\n",
        "# Sample data for the 3D scatter plot\n",
        "data = {\n",
        "    'X': [1, 2, 3, 4, 5],\n",
        "    'Y': [5, 4, 3, 2, 1],\n",
        "    'Z': [2, 3, 4, 5, 6],\n",
        "}\n",
        "\n",
        "# Create a DataFrame\n",
        "df = pd.DataFrame(data)\n",
        "\n",
        "# Create a 3D scatter plot\n",
        "fig = px.scatter_3d(df, x='X', y='Y', z='Z', title='3D Scatter Plot')\n",
        "\n",
        "# Show the plot\n",
        "fig.show()"
      ],
      "metadata": {
        "id": "sVySyDia6QCA"
      },
      "execution_count": null,
      "outputs": []
    }
  ]
}